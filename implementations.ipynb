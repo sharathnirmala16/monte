{
 "cells": [
  {
   "cell_type": "code",
   "execution_count": 1,
   "metadata": {},
   "outputs": [],
   "source": [
    "import numpy as np\n",
    "import pandas as pd\n",
    "import yfinance as yf\n",
    "import matplotlib.pyplot as plt\n",
    "from MonteCarlo import MonteCarlo"
   ]
  },
  {
   "cell_type": "code",
   "execution_count": 7,
   "metadata": {},
   "outputs": [
    {
     "data": {
      "text/html": [
       "<div>\n",
       "<style scoped>\n",
       "    .dataframe tbody tr th:only-of-type {\n",
       "        vertical-align: middle;\n",
       "    }\n",
       "\n",
       "    .dataframe tbody tr th {\n",
       "        vertical-align: top;\n",
       "    }\n",
       "\n",
       "    .dataframe thead th {\n",
       "        text-align: right;\n",
       "    }\n",
       "</style>\n",
       "<table border=\"1\" class=\"dataframe\">\n",
       "  <thead>\n",
       "    <tr style=\"text-align: right;\">\n",
       "      <th></th>\n",
       "      <th>Open</th>\n",
       "      <th>High</th>\n",
       "      <th>Low</th>\n",
       "      <th>Close</th>\n",
       "      <th>Adj Close</th>\n",
       "      <th>Volume</th>\n",
       "    </tr>\n",
       "    <tr>\n",
       "      <th>Datetime</th>\n",
       "      <th></th>\n",
       "      <th></th>\n",
       "      <th></th>\n",
       "      <th></th>\n",
       "      <th></th>\n",
       "      <th></th>\n",
       "    </tr>\n",
       "  </thead>\n",
       "  <tbody>\n",
       "    <tr>\n",
       "      <th>2023-09-14 09:15:00+05:30</th>\n",
       "      <td>20127.949219</td>\n",
       "      <td>20167.000000</td>\n",
       "      <td>20096.699219</td>\n",
       "      <td>20111.849609</td>\n",
       "      <td>20111.849609</td>\n",
       "      <td>0</td>\n",
       "    </tr>\n",
       "    <tr>\n",
       "      <th>2023-09-14 10:15:00+05:30</th>\n",
       "      <td>20113.099609</td>\n",
       "      <td>20123.800781</td>\n",
       "      <td>20064.300781</td>\n",
       "      <td>20097.500000</td>\n",
       "      <td>20097.500000</td>\n",
       "      <td>0</td>\n",
       "    </tr>\n",
       "    <tr>\n",
       "      <th>2023-09-14 11:15:00+05:30</th>\n",
       "      <td>20097.000000</td>\n",
       "      <td>20105.900391</td>\n",
       "      <td>20069.250000</td>\n",
       "      <td>20096.199219</td>\n",
       "      <td>20096.199219</td>\n",
       "      <td>0</td>\n",
       "    </tr>\n",
       "    <tr>\n",
       "      <th>2023-09-14 12:15:00+05:30</th>\n",
       "      <td>20098.349609</td>\n",
       "      <td>20102.449219</td>\n",
       "      <td>20050.599609</td>\n",
       "      <td>20091.099609</td>\n",
       "      <td>20091.099609</td>\n",
       "      <td>0</td>\n",
       "    </tr>\n",
       "    <tr>\n",
       "      <th>2023-09-14 13:15:00+05:30</th>\n",
       "      <td>20091.800781</td>\n",
       "      <td>20107.650391</td>\n",
       "      <td>20044.699219</td>\n",
       "      <td>20067.500000</td>\n",
       "      <td>20067.500000</td>\n",
       "      <td>0</td>\n",
       "    </tr>\n",
       "    <tr>\n",
       "      <th>...</th>\n",
       "      <td>...</td>\n",
       "      <td>...</td>\n",
       "      <td>...</td>\n",
       "      <td>...</td>\n",
       "      <td>...</td>\n",
       "      <td>...</td>\n",
       "    </tr>\n",
       "    <tr>\n",
       "      <th>2023-09-28 11:15:00+05:30</th>\n",
       "      <td>19659.699219</td>\n",
       "      <td>19668.550781</td>\n",
       "      <td>19620.349609</td>\n",
       "      <td>19629.800781</td>\n",
       "      <td>19629.800781</td>\n",
       "      <td>0</td>\n",
       "    </tr>\n",
       "    <tr>\n",
       "      <th>2023-09-28 12:15:00+05:30</th>\n",
       "      <td>19629.699219</td>\n",
       "      <td>19636.650391</td>\n",
       "      <td>19587.099609</td>\n",
       "      <td>19591.400391</td>\n",
       "      <td>19591.400391</td>\n",
       "      <td>0</td>\n",
       "    </tr>\n",
       "    <tr>\n",
       "      <th>2023-09-28 13:15:00+05:30</th>\n",
       "      <td>19591.050781</td>\n",
       "      <td>19592.849609</td>\n",
       "      <td>19540.199219</td>\n",
       "      <td>19551.400391</td>\n",
       "      <td>19551.400391</td>\n",
       "      <td>0</td>\n",
       "    </tr>\n",
       "    <tr>\n",
       "      <th>2023-09-28 14:15:00+05:30</th>\n",
       "      <td>19551.250000</td>\n",
       "      <td>19578.449219</td>\n",
       "      <td>19493.099609</td>\n",
       "      <td>19499.250000</td>\n",
       "      <td>19499.250000</td>\n",
       "      <td>0</td>\n",
       "    </tr>\n",
       "    <tr>\n",
       "      <th>2023-09-28 15:15:00+05:30</th>\n",
       "      <td>19499.849609</td>\n",
       "      <td>19557.500000</td>\n",
       "      <td>19499.800781</td>\n",
       "      <td>19523.550781</td>\n",
       "      <td>19523.550781</td>\n",
       "      <td>0</td>\n",
       "    </tr>\n",
       "  </tbody>\n",
       "</table>\n",
       "<p>70 rows × 6 columns</p>\n",
       "</div>"
      ],
      "text/plain": [
       "                                   Open          High           Low  \\\n",
       "Datetime                                                              \n",
       "2023-09-14 09:15:00+05:30  20127.949219  20167.000000  20096.699219   \n",
       "2023-09-14 10:15:00+05:30  20113.099609  20123.800781  20064.300781   \n",
       "2023-09-14 11:15:00+05:30  20097.000000  20105.900391  20069.250000   \n",
       "2023-09-14 12:15:00+05:30  20098.349609  20102.449219  20050.599609   \n",
       "2023-09-14 13:15:00+05:30  20091.800781  20107.650391  20044.699219   \n",
       "...                                 ...           ...           ...   \n",
       "2023-09-28 11:15:00+05:30  19659.699219  19668.550781  19620.349609   \n",
       "2023-09-28 12:15:00+05:30  19629.699219  19636.650391  19587.099609   \n",
       "2023-09-28 13:15:00+05:30  19591.050781  19592.849609  19540.199219   \n",
       "2023-09-28 14:15:00+05:30  19551.250000  19578.449219  19493.099609   \n",
       "2023-09-28 15:15:00+05:30  19499.849609  19557.500000  19499.800781   \n",
       "\n",
       "                                  Close     Adj Close  Volume  \n",
       "Datetime                                                       \n",
       "2023-09-14 09:15:00+05:30  20111.849609  20111.849609       0  \n",
       "2023-09-14 10:15:00+05:30  20097.500000  20097.500000       0  \n",
       "2023-09-14 11:15:00+05:30  20096.199219  20096.199219       0  \n",
       "2023-09-14 12:15:00+05:30  20091.099609  20091.099609       0  \n",
       "2023-09-14 13:15:00+05:30  20067.500000  20067.500000       0  \n",
       "...                                 ...           ...     ...  \n",
       "2023-09-28 11:15:00+05:30  19629.800781  19629.800781       0  \n",
       "2023-09-28 12:15:00+05:30  19591.400391  19591.400391       0  \n",
       "2023-09-28 13:15:00+05:30  19551.400391  19551.400391       0  \n",
       "2023-09-28 14:15:00+05:30  19499.250000  19499.250000       0  \n",
       "2023-09-28 15:15:00+05:30  19523.550781  19523.550781       0  \n",
       "\n",
       "[70 rows x 6 columns]"
      ]
     },
     "execution_count": 7,
     "metadata": {},
     "output_type": "execute_result"
    }
   ],
   "source": [
    "data: pd.DataFrame = yf.download(['^NSEI'], period='10d', interval='1h', progress=False)\n",
    "data"
   ]
  },
  {
   "cell_type": "code",
   "execution_count": 8,
   "metadata": {},
   "outputs": [],
   "source": [
    "forecasts=8\n",
    "df = data.copy(deep=True).reset_index(drop = True)[:-forecasts]\n",
    "df_actual = data.copy(deep=True).reset_index(drop = True)"
   ]
  },
  {
   "cell_type": "code",
   "execution_count": 20,
   "metadata": {},
   "outputs": [],
   "source": [
    "def probs_find(paths: np.ndarray, higher_than: float)->float:\n",
    "    if higher_than >= 0:\n",
    "        predicted0 = paths[0,0]\n",
    "        predicted = paths[-1]\n",
    "        predList = list(predicted)\n",
    "        over = [(i*100)/predicted0 for i in predList if ((i-predicted0)*100)/predicted0 >= higher_than]\n",
    "        less = [(i*100)/predicted0 for i in predList if ((i-predicted0)*100)/predicted0 < higher_than]\n",
    "        return (len(over)/(len(over)+len(less)))\n",
    "    else:\n",
    "        predicted0 = paths[0,0]\n",
    "        predicted = paths[-1]\n",
    "        predList = list(predicted)\n",
    "        over = [(i*100)/predicted0 for i in predList if ((i-predicted0)*100)/predicted0 < higher_than]\n",
    "        less = [(i*100)/predicted0 for i in predList if ((i-predicted0)*100)/predicted0 >= higher_than]\n",
    "        return (len(over)/(len(over)+len(less)))\n"
   ]
  },
  {
   "cell_type": "code",
   "execution_count": 10,
   "metadata": {},
   "outputs": [],
   "source": [
    "paths = MonteCarlo.simulate(df['Adj Close'].values, forecasts=forecasts, simulations=1000000)\n",
    "\n",
    "# Calculate the mean path\n",
    "mean_path = np.mean(paths, axis=1)\n",
    "\n",
    "# Calculate the max path\n",
    "max_path = np.max(paths, axis=1)\n",
    "\n",
    "# Calculate the min path\n",
    "min_path = np.min(paths, axis=1)"
   ]
  },
  {
   "cell_type": "code",
   "execution_count": 21,
   "metadata": {},
   "outputs": [
    {
     "data": {
      "text/plain": [
       "0.567006"
      ]
     },
     "execution_count": 21,
     "metadata": {},
     "output_type": "execute_result"
    }
   ],
   "source": [
    "probs_find(paths, -0.1)"
   ]
  },
  {
   "cell_type": "code",
   "execution_count": 22,
   "metadata": {},
   "outputs": [],
   "source": [
    "preds = pd.DataFrame(index=range(df.shape[0], df.shape[0] + paths.shape[0]))\n",
    "preds['MeanPath'] = mean_path\n",
    "preds['MinPath'] = min_path\n",
    "preds['MaxPath'] = max_path"
   ]
  },
  {
   "cell_type": "code",
   "execution_count": 23,
   "metadata": {},
   "outputs": [
    {
     "data": {
      "text/html": [
       "<div>\n",
       "<style scoped>\n",
       "    .dataframe tbody tr th:only-of-type {\n",
       "        vertical-align: middle;\n",
       "    }\n",
       "\n",
       "    .dataframe tbody tr th {\n",
       "        vertical-align: top;\n",
       "    }\n",
       "\n",
       "    .dataframe thead th {\n",
       "        text-align: right;\n",
       "    }\n",
       "</style>\n",
       "<table border=\"1\" class=\"dataframe\">\n",
       "  <thead>\n",
       "    <tr style=\"text-align: right;\">\n",
       "      <th></th>\n",
       "      <th>MeanPath</th>\n",
       "      <th>MinPath</th>\n",
       "      <th>MaxPath</th>\n",
       "    </tr>\n",
       "  </thead>\n",
       "  <tbody>\n",
       "    <tr>\n",
       "      <th>62</th>\n",
       "      <td>19709.349609</td>\n",
       "      <td>19709.349609</td>\n",
       "      <td>19709.349609</td>\n",
       "    </tr>\n",
       "    <tr>\n",
       "      <th>63</th>\n",
       "      <td>19703.075227</td>\n",
       "      <td>19185.438342</td>\n",
       "      <td>20259.984517</td>\n",
       "    </tr>\n",
       "    <tr>\n",
       "      <th>64</th>\n",
       "      <td>19696.699702</td>\n",
       "      <td>19052.974612</td>\n",
       "      <td>20463.179415</td>\n",
       "    </tr>\n",
       "    <tr>\n",
       "      <th>65</th>\n",
       "      <td>19690.199169</td>\n",
       "      <td>18896.229972</td>\n",
       "      <td>20430.426225</td>\n",
       "    </tr>\n",
       "    <tr>\n",
       "      <th>66</th>\n",
       "      <td>19683.886154</td>\n",
       "      <td>18890.038973</td>\n",
       "      <td>20537.992874</td>\n",
       "    </tr>\n",
       "    <tr>\n",
       "      <th>67</th>\n",
       "      <td>19677.533918</td>\n",
       "      <td>18836.972958</td>\n",
       "      <td>20570.781371</td>\n",
       "    </tr>\n",
       "    <tr>\n",
       "      <th>68</th>\n",
       "      <td>19671.156994</td>\n",
       "      <td>18823.728843</td>\n",
       "      <td>20612.501617</td>\n",
       "    </tr>\n",
       "    <tr>\n",
       "      <th>69</th>\n",
       "      <td>19664.659273</td>\n",
       "      <td>18624.926657</td>\n",
       "      <td>20687.586243</td>\n",
       "    </tr>\n",
       "  </tbody>\n",
       "</table>\n",
       "</div>"
      ],
      "text/plain": [
       "        MeanPath       MinPath       MaxPath\n",
       "62  19709.349609  19709.349609  19709.349609\n",
       "63  19703.075227  19185.438342  20259.984517\n",
       "64  19696.699702  19052.974612  20463.179415\n",
       "65  19690.199169  18896.229972  20430.426225\n",
       "66  19683.886154  18890.038973  20537.992874\n",
       "67  19677.533918  18836.972958  20570.781371\n",
       "68  19671.156994  18823.728843  20612.501617\n",
       "69  19664.659273  18624.926657  20687.586243"
      ]
     },
     "execution_count": 23,
     "metadata": {},
     "output_type": "execute_result"
    }
   ],
   "source": [
    "preds"
   ]
  },
  {
   "cell_type": "code",
   "execution_count": 24,
   "metadata": {},
   "outputs": [
    {
     "data": {
      "text/plain": [
       "(8, 1000000)"
      ]
     },
     "execution_count": 24,
     "metadata": {},
     "output_type": "execute_result"
    }
   ],
   "source": [
    "paths.shape"
   ]
  },
  {
   "cell_type": "code",
   "execution_count": 25,
   "metadata": {},
   "outputs": [
    {
     "data": {
      "text/plain": [
       "<function matplotlib.pyplot.plot(*args, scalex=True, scaley=True, data=None, **kwargs)>"
      ]
     },
     "execution_count": 25,
     "metadata": {},
     "output_type": "execute_result"
    },
    {
     "data": {
      "image/png": "[encoded data removed]",
      "text/plain": [
       "<Figure size 640x480 with 1 Axes>"
      ]
     },
     "metadata": {},
     "output_type": "display_data"
    }
   ],
   "source": [
    "plt.plot(df['Adj Close'][:])\n",
    "plt.plot(df_actual['Adj Close'][-forecasts:])\n",
    "plt.plot(preds['MeanPath'], color='red')\n",
    "plt.plot(preds['MinPath'], color='red')\n",
    "plt.plot(preds['MaxPath'], color='red')\n",
    "plt.plot"
   ]
  }
 ],
 "metadata": {
  "kernelspec": {
   "display_name": "testing_env",
   "language": "python",
   "name": "python3"
  },
  "language_info": {
   "codemirror_mode": {
    "name": "ipython",
    "version": 3
   },
   "file_extension": ".py",
   "mimetype": "text/x-python",
   "name": "python",
   "nbconvert_exporter": "python",
   "pygments_lexer": "ipython3",
   "version": "3.11.5"
  },
  "orig_nbformat": 4
 },
 "nbformat": 4,
 "nbformat_minor": 2
}
